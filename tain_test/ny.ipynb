{
 "cells": [
  {
   "cell_type": "markdown",
   "metadata": {},
   "source": [
    "## import Libraries\n"
   ]
  },
  {
   "cell_type": "code",
   "execution_count": null,
   "metadata": {},
   "outputs": [],
   "source": [
    "import pandas as pd;\n",
    "import numpy as np;\n",
    "import sklearn;\n",
    "import matplotlib.pyplot as plt\n",
    "import seaborn as sns\n",
    "import sklearn.linear_model as linear_model\n",
    "\n",
    "\n"
   ]
  },
  {
   "cell_type": "markdown",
   "metadata": {},
   "source": [
    "## loading Titanic Dataset"
   ]
  },
  {
   "cell_type": "code",
   "execution_count": 2,
   "metadata": {},
   "outputs": [],
   "source": [
    "data=pd.read_csv('../Datasets/titanic.csv')\n"
   ]
  },
  {
   "cell_type": "markdown",
   "metadata": {},
   "source": [
    "## printing Dataset\n"
   ]
  },
  {
   "cell_type": "code",
   "execution_count": 3,
   "metadata": {},
   "outputs": [
    {
     "name": "stdout",
     "output_type": "stream",
     "text": [
      "the current dataset is :                                  name survived     sex      age passengerClass\n",
      "0       Allen, Miss. Elisabeth Walton      yes  female  29.0000            1st\n",
      "1      Allison, Master. Hudson Trevor      yes    male   0.9167            1st\n",
      "2        Allison, Miss. Helen Loraine       no  female   2.0000            1st\n",
      "3     Allison, Mr. Hudson Joshua Crei       no    male  30.0000            1st\n",
      "4     Allison, Mrs. Hudson J C (Bessi       no  female  25.0000            1st\n",
      "...                               ...      ...     ...      ...            ...\n",
      "1041             Youseff, Mr. Gerious       no    male  45.5000            3rd\n",
      "1042             Zabour, Miss. Hileni       no  female  14.5000            3rd\n",
      "1043        Zakarian, Mr. Mapriededer       no    male  26.5000            3rd\n",
      "1044              Zakarian, Mr. Ortin       no    male  27.0000            3rd\n",
      "1045               Zimmerman, Mr. Leo       no    male  29.0000            3rd\n",
      "\n",
      "[1046 rows x 5 columns]\n"
     ]
    }
   ],
   "source": [
    "print(\"the current dataset is :\",data)"
   ]
  },
  {
   "cell_type": "markdown",
   "metadata": {},
   "source": [
    "## feature selection"
   ]
  },
  {
   "cell_type": "code",
   "execution_count": 9,
   "metadata": {},
   "outputs": [],
   "source": [
    "x = data[[\"age\", \"passengerClass\", \"sex\"]]\n",
    "y = data[\"survived\"]\n"
   ]
  },
  {
   "cell_type": "markdown",
   "metadata": {},
   "source": [
    "## split data into different \n",
    "\n",
    "x_train,x_test,y_test=train_test_Split(x,y,test_size=0.2)"
   ]
  },
  {
   "cell_type": "code",
   "execution_count": null,
   "metadata": {},
   "outputs": [],
   "source": []
  }
 ],
 "metadata": {
  "kernelspec": {
   "display_name": ".venv",
   "language": "python",
   "name": "python3"
  },
  "language_info": {
   "codemirror_mode": {
    "name": "ipython",
    "version": 3
   },
   "file_extension": ".py",
   "mimetype": "text/x-python",
   "name": "python",
   "nbconvert_exporter": "python",
   "pygments_lexer": "ipython3",
   "version": "3.13.1"
  }
 },
 "nbformat": 4,
 "nbformat_minor": 2
}
